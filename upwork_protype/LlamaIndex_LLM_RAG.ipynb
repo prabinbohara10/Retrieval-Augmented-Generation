{
 "cells": [
  {
   "cell_type": "code",
   "execution_count": 12,
   "metadata": {},
   "outputs": [],
   "source": [
    "from llama_index.core.node_parser import CodeSplitter"
   ]
  },
  {
   "cell_type": "code",
   "execution_count": 14,
   "metadata": {},
   "outputs": [],
   "source": [
    "from llama_index.readers.file import FlatReader\n",
    "from pathlib import Path"
   ]
  },
  {
   "cell_type": "code",
   "execution_count": 15,
   "metadata": {},
   "outputs": [],
   "source": [
    "import pandas as pd"
   ]
  },
  {
   "cell_type": "code",
   "execution_count": 16,
   "metadata": {},
   "outputs": [],
   "source": [
    "df = pd.read_parquet(\"../datasets/test-00000-of-00001.parquet\", engine = \"auto\")"
   ]
  },
  {
   "cell_type": "code",
   "execution_count": 17,
   "metadata": {},
   "outputs": [
    {
     "data": {
      "text/html": [
       "<div>\n",
       "<style scoped>\n",
       "    .dataframe tbody tr th:only-of-type {\n",
       "        vertical-align: middle;\n",
       "    }\n",
       "\n",
       "    .dataframe tbody tr th {\n",
       "        vertical-align: top;\n",
       "    }\n",
       "\n",
       "    .dataframe thead th {\n",
       "        text-align: right;\n",
       "    }\n",
       "</style>\n",
       "<table border=\"1\" class=\"dataframe\">\n",
       "  <thead>\n",
       "    <tr style=\"text-align: right;\">\n",
       "      <th></th>\n",
       "      <th>text</th>\n",
       "      <th>label</th>\n",
       "    </tr>\n",
       "  </thead>\n",
       "  <tbody>\n",
       "    <tr>\n",
       "      <th>0</th>\n",
       "      <td>Fears for T N pension after talks Unions repre...</td>\n",
       "      <td>2</td>\n",
       "    </tr>\n",
       "    <tr>\n",
       "      <th>1</th>\n",
       "      <td>The Race is On: Second Private Team Sets Launc...</td>\n",
       "      <td>3</td>\n",
       "    </tr>\n",
       "    <tr>\n",
       "      <th>2</th>\n",
       "      <td>Ky. Company Wins Grant to Study Peptides (AP) ...</td>\n",
       "      <td>3</td>\n",
       "    </tr>\n",
       "    <tr>\n",
       "      <th>3</th>\n",
       "      <td>Prediction Unit Helps Forecast Wildfires (AP) ...</td>\n",
       "      <td>3</td>\n",
       "    </tr>\n",
       "    <tr>\n",
       "      <th>4</th>\n",
       "      <td>Calif. Aims to Limit Farm-Related Smog (AP) AP...</td>\n",
       "      <td>3</td>\n",
       "    </tr>\n",
       "    <tr>\n",
       "      <th>...</th>\n",
       "      <td>...</td>\n",
       "      <td>...</td>\n",
       "    </tr>\n",
       "    <tr>\n",
       "      <th>7595</th>\n",
       "      <td>Around the world Ukrainian presidential candid...</td>\n",
       "      <td>0</td>\n",
       "    </tr>\n",
       "    <tr>\n",
       "      <th>7596</th>\n",
       "      <td>Void is filled with Clement With the supply of...</td>\n",
       "      <td>1</td>\n",
       "    </tr>\n",
       "    <tr>\n",
       "      <th>7597</th>\n",
       "      <td>Martinez leaves bitter Like Roger Clemens did ...</td>\n",
       "      <td>1</td>\n",
       "    </tr>\n",
       "    <tr>\n",
       "      <th>7598</th>\n",
       "      <td>5 of arthritis patients in Singapore take Bext...</td>\n",
       "      <td>2</td>\n",
       "    </tr>\n",
       "    <tr>\n",
       "      <th>7599</th>\n",
       "      <td>EBay gets into rentals EBay plans to buy the a...</td>\n",
       "      <td>2</td>\n",
       "    </tr>\n",
       "  </tbody>\n",
       "</table>\n",
       "<p>7600 rows × 2 columns</p>\n",
       "</div>"
      ],
      "text/plain": [
       "                                                   text  label\n",
       "0     Fears for T N pension after talks Unions repre...      2\n",
       "1     The Race is On: Second Private Team Sets Launc...      3\n",
       "2     Ky. Company Wins Grant to Study Peptides (AP) ...      3\n",
       "3     Prediction Unit Helps Forecast Wildfires (AP) ...      3\n",
       "4     Calif. Aims to Limit Farm-Related Smog (AP) AP...      3\n",
       "...                                                 ...    ...\n",
       "7595  Around the world Ukrainian presidential candid...      0\n",
       "7596  Void is filled with Clement With the supply of...      1\n",
       "7597  Martinez leaves bitter Like Roger Clemens did ...      1\n",
       "7598  5 of arthritis patients in Singapore take Bext...      2\n",
       "7599  EBay gets into rentals EBay plans to buy the a...      2\n",
       "\n",
       "[7600 rows x 2 columns]"
      ]
     },
     "execution_count": 17,
     "metadata": {},
     "output_type": "execute_result"
    }
   ],
   "source": [
    "df"
   ]
  },
  {
   "cell_type": "code",
   "execution_count": 29,
   "metadata": {},
   "outputs": [
    {
     "data": {
      "text/plain": [
       "0       Fears for T N pension after talks Unions repre...\n",
       "1       The Race is On: Second Private Team Sets Launc...\n",
       "2       Ky. Company Wins Grant to Study Peptides (AP) ...\n",
       "3       Prediction Unit Helps Forecast Wildfires (AP) ...\n",
       "4       Calif. Aims to Limit Farm-Related Smog (AP) AP...\n",
       "                              ...                        \n",
       "7595    Around the world Ukrainian presidential candid...\n",
       "7596    Void is filled with Clement With the supply of...\n",
       "7597    Martinez leaves bitter Like Roger Clemens did ...\n",
       "7598    5 of arthritis patients in Singapore take Bext...\n",
       "7599    EBay gets into rentals EBay plans to buy the a...\n",
       "Name: text, Length: 7600, dtype: object"
      ]
     },
     "execution_count": 29,
     "metadata": {},
     "output_type": "execute_result"
    }
   ],
   "source": [
    "df[\"text\"]"
   ]
  },
  {
   "cell_type": "code",
   "execution_count": 38,
   "metadata": {},
   "outputs": [],
   "source": [
    "raw_text = \"\\n\".join(df[\"text\"])"
   ]
  },
  {
   "cell_type": "code",
   "execution_count": 39,
   "metadata": {},
   "outputs": [
    {
     "data": {
      "text/plain": [
       "\"Fears for T N pension after talks Unions representing workers at Turner   Newall say they are 'disappointed' after talks with stricken parent firm Federal Mogul.\\nThe Race is On: Second Private Team Sets Launch Date for Human Spaceflight (SPACE.com) SPACE.com - TORONTO, Canada -- A second\\\\team of rocketeers competing for the  #36;10 million Ansari X Prize, a contest for\\\\privately funded suborbital space flight, has officially announced the first\\\\launch date for its manned rocket.\\nKy. Company Wins Grant to Study Peptides (AP) AP - A company founded by a chemistry researcher at the University of Louisville won a grant to develop a method of producing better peptides, which are short chains of amino acids, the building blocks of proteins.\\nPrediction Unit Helps Forecast Wildfires (AP) AP - It's barely dawn when Mike Fitzpatrick starts his shift with a blur of colorful maps, figures and endless charts, but already he knows what the day will bring. Lightning will strike in places he expects. \""
      ]
     },
     "execution_count": 39,
     "metadata": {},
     "output_type": "execute_result"
    }
   ],
   "source": [
    "raw_text[0:1000]"
   ]
  },
  {
   "cell_type": "code",
   "execution_count": 43,
   "metadata": {},
   "outputs": [],
   "source": [
    "with open(\"../datasets/Output.txt\", \"w\") as text_file:\n",
    "    text_file.write(raw_text)"
   ]
  },
  {
   "cell_type": "code",
   "execution_count": 19,
   "metadata": {},
   "outputs": [
    {
     "name": "stdout",
     "output_type": "stream",
     "text": [
      "Requirement already satisfied: pyarrow in f:\\coding_workspace2\\retrieval-augmented-generation\\env\\lib\\site-packages (16.0.0)"
     ]
    },
    {
     "name": "stderr",
     "output_type": "stream",
     "text": [
      "WARNING: You are using pip version 22.0.4; however, version 24.0 is available.\n",
      "You should consider upgrading via the 'F:\\coding_workspace2\\Retrieval-Augmented-Generation\\env\\Scripts\\python.exe -m pip install --upgrade pip' command.\n"
     ]
    },
    {
     "name": "stdout",
     "output_type": "stream",
     "text": [
      "\n",
      "Requirement already satisfied: numpy>=1.16.6 in f:\\coding_workspace2\\retrieval-augmented-generation\\env\\lib\\site-packages (from pyarrow) (1.26.4)\n"
     ]
    }
   ],
   "source": [
    "!pip install pyarrow"
   ]
  },
  {
   "cell_type": "code",
   "execution_count": 47,
   "metadata": {},
   "outputs": [
    {
     "data": {
      "text/plain": [
       "1"
      ]
     },
     "execution_count": 47,
     "metadata": {},
     "output_type": "execute_result"
    }
   ],
   "source": [
    "documents = FlatReader().load_data(Path(\"../datasets/Output.txt\"))\n",
    "len(documents)"
   ]
  },
  {
   "cell_type": "code",
   "execution_count": 50,
   "metadata": {},
   "outputs": [
    {
     "data": {
      "text/plain": [
       "395"
      ]
     },
     "execution_count": 50,
     "metadata": {},
     "output_type": "execute_result"
    }
   ],
   "source": [
    "from llama_index.core.node_parser import SentenceSplitter\n",
    "\n",
    "splitter = SentenceSplitter(\n",
    "    chunk_size=1024,\n",
    "    chunk_overlap=20,\n",
    ")\n",
    "nodes = splitter.get_nodes_from_documents(documents)\n",
    "len(nodes)"
   ]
  },
  {
   "cell_type": "code",
   "execution_count": 54,
   "metadata": {},
   "outputs": [
    {
     "data": {
      "text/plain": [
       "[TextNode(id_='b3023061-53d9-4ff0-ae0c-436119bd35e4', embedding=None, metadata={'filename': 'Output.txt', 'extension': '.txt'}, excluded_embed_metadata_keys=[], excluded_llm_metadata_keys=[], relationships={<NodeRelationship.SOURCE: '1'>: RelatedNodeInfo(node_id='39b57394-7d64-45eb-b8e8-76a8aa36d9c3', node_type=<ObjectType.DOCUMENT: '4'>, metadata={'filename': 'Output.txt', 'extension': '.txt'}, hash='18021a01705c19ecce84f5a18b2febc1da3cc963368b3438fc9a464398ce2c27'), <NodeRelationship.NEXT: '3'>: RelatedNodeInfo(node_id='be747403-32cb-4c71-86b8-cfb229b1c0ed', node_type=<ObjectType.TEXT: '1'>, metadata={}, hash='c7053c9468a7e56d6a447f29769ee21bdcc967ee60d806659e3cb26fc8b4dd14')}, text='Fears for T N pension after talks Unions representing workers at Turner   Newall say they are \\'disappointed\\' after talks with stricken parent firm Federal Mogul.\\nThe Race is On: Second Private Team Sets Launch Date for Human Spaceflight (SPACE.com) SPACE.com - TORONTO, Canada -- A second\\\\team of rocketeers competing for the  #36;10 million Ansari X Prize, a contest for\\\\privately funded suborbital space flight, has officially announced the first\\\\launch date for its manned rocket.\\nKy. Company Wins Grant to Study Peptides (AP) AP - A company founded by a chemistry researcher at the University of Louisville won a grant to develop a method of producing better peptides, which are short chains of amino acids, the building blocks of proteins.\\nPrediction Unit Helps Forecast Wildfires (AP) AP - It\\'s barely dawn when Mike Fitzpatrick starts his shift with a blur of colorful maps, figures and endless charts, but already he knows what the day will bring. Lightning will strike in places he expects. Winds will pick up, moist places will dry and flames will roar.\\nCalif. Aims to Limit Farm-Related Smog (AP) AP - Southern California\\'s smog-fighting agency went after emissions of the bovine variety Friday, adopting the nation\\'s first rules to reduce air pollution from dairy cow manure.\\nOpen Letter Against British Copyright Indoctrination in Schools The British Department for Education and Skills (DfES) recently launched a \"Music Manifesto\" campaign, with the ostensible intention of educating the next generation of British musicians. Unfortunately, they also teamed up with the music industry (EMI, and various artists) to make this popular. EMI has apparently negotiated their end well, so that children in our schools will now be indoctrinated about the illegality of downloading music.The ignorance and audacity of this got to me a little, so I wrote an open letter to the DfES about it. Unfortunately, it\\'s pedantic, as I suppose you have to be when writing to goverment representatives. But I hope you find it useful, and perhaps feel inspired to do something similar, if or when the same thing has happened in your area.\\nLoosing the War on Terrorism \\\\\\\\\"Sven Jaschan, self-confessed author of the Netsky and Sasser viruses, is\\\\responsible for 70 percent of virus infections in 2004, according to a six-month\\\\virus roundup published Wednesday by antivirus company Sophos.\"\\\\\\\\\"The 18-year-old Jaschan was taken into custody in Germany in May by police who\\\\said he had admitted programming both the Netsky and Sasser worms, something\\\\experts at Microsoft confirmed. (A Microsoft antivirus reward program led to the\\\\teenager\\'s arrest.) During the five months preceding Jaschan\\'s capture, there\\\\were at least 25 variants of Netsky and one of the port-scanning network worm\\\\Sasser.\"\\\\\\\\\"Graham Cluley, senior technology consultant at Sophos, said it was staggeri ...\\\\\\\\\\nFOAFKey: FOAF, PGP, Key Distribution, and Bloom Filters \\\\\\\\FOAF/LOAF  and bloom filters have a lot of interesting properties for social\\\\network and whitelist distribution.\\\\\\\\I think we can go one level higher though and include GPG/OpenPGP key\\\\fingerpring distribution in the FOAF file for simple web-of-trust based key\\\\distribution.\\\\\\\\What if we used FOAF and included the PGP key fingerprint(s) for identities?\\\\This could mean a lot.  You include the PGP key fingerprints within the FOAF\\\\file of your direct friends and then include a bloom filter of the PGP key\\\\fingerprints of your entire whitelist (the source FOAF file would of course need\\\\to be encrypted ).\\\\\\\\Your whitelist would be populated from the social network as your client\\\\discovered new identit ...\\\\\\\\\\nE-mail scam targets police chief Wiltshire Police warns about \"phishing\" after its fraud squad chief was targeted.\\nCard fraud unit nets 36,000 cards In its first two years, the UK\\'s dedicated card fraud unit, has recovered 36,000 stolen cards and 171 arrests - and estimates it saved 65m.\\nGroup to Propose New High-Speed Wireless Format  LOS ANGELES (Reuters) - A group of technology companies  including Texas Instruments Inc. &lt;TXN.N&gt;, STMicroelectronics  &lt;STM.PA&gt; and Broadcom Corp. &lt;BRCM.O&gt;, on Thursday said they  will propose a new wireless networking standard up to 10 times  the speed of the current generation.', start_char_idx=0, end_char_idx=4272, text_template='{metadata_str}\\n\\n{content}', metadata_template='{key}: {value}', metadata_seperator='\\n'),\n",
       " TextNode(id_='be747403-32cb-4c71-86b8-cfb229b1c0ed', embedding=None, metadata={'filename': 'Output.txt', 'extension': '.txt'}, excluded_embed_metadata_keys=[], excluded_llm_metadata_keys=[], relationships={<NodeRelationship.SOURCE: '1'>: RelatedNodeInfo(node_id='39b57394-7d64-45eb-b8e8-76a8aa36d9c3', node_type=<ObjectType.DOCUMENT: '4'>, metadata={'filename': 'Output.txt', 'extension': '.txt'}, hash='18021a01705c19ecce84f5a18b2febc1da3cc963368b3438fc9a464398ce2c27'), <NodeRelationship.PREVIOUS: '2'>: RelatedNodeInfo(node_id='b3023061-53d9-4ff0-ae0c-436119bd35e4', node_type=<ObjectType.TEXT: '1'>, metadata={'filename': 'Output.txt', 'extension': '.txt'}, hash='7badfbd59031600af9151956ba19fda057f90d9cce3d7f38d180af07c84d329f'), <NodeRelationship.NEXT: '3'>: RelatedNodeInfo(node_id='521f0c6d-c206-49a5-b0d4-b4be17dabd11', node_type=<ObjectType.TEXT: '1'>, metadata={}, hash='e36d65e0809cc754595e13f98e996829f4c498cd7f2ed50d06677396c538030f')}, text='Apple Launches Graphics Software, Video Bundle  LOS ANGELES (Reuters) - Apple Computer Inc.&lt;AAPL.O&gt; on  Tuesday began shipping a new program designed to let users  create real-time motion graphics and unveiled a discount  video-editing software bundle featuring its flagship Final Cut  Pro software.\\nDutch Retailer Beats Apple to Local Download Market  AMSTERDAM (Reuters) - Free Record Shop, a Dutch music  retail chain, beat Apple Computer Inc. to market on Tuesday  with the launch of a new download service in Europe\\'s latest  battleground for digital song services.\\nSuper ant colony hits Australia A giant 100km colony of ants  which has been discovered in Melbourne, Australia, could threaten local insect species.\\nSocialites unite dolphin groups Dolphin groups, or \"pods\", rely on socialites to keep them from collapsing, scientists claim.\\nTeenage T. rex\\'s monster growth Tyrannosaurus rex achieved its massive size due to an enormous growth spurt during its adolescent years.\\nScientists Discover Ganymede has a Lumpy Interior Jet Propulsion Lab -- Scientists have discovered irregular lumps beneath the icy surface of Jupiter\\'s largest moon, Ganymede. These irregular masses may be rock formations, supported by Ganymede\\'s icy shell for billions of years...\\nMars Rovers Relay Images Through Mars Express European Space Agency -- ESAs Mars Express has relayed pictures from one of NASA\\'s Mars rovers for the first time, as part of a set of interplanetary networking demonstrations.     The demonstrations pave the way for future Mars missions to draw on joint interplanetary networking capabilities...\\nRocking the Cradle of Life When did life begin? One evidential clue stems from the fossil records in Western Australia, although whether these layered sediments are biological or chemical has spawned a spirited debate. Oxford researcher, Nicola McLoughlin, describes some of the issues in contention.\\nStorage, servers bruise HP earnings update Earnings per share rise compared with a year ago, but company misses analysts\\' expectations by a long shot.\\nIBM to hire even more new workers By the end of the year, the computing giant plans to have its biggest headcount since 1991.\\nSun\\'s Looking Glass Provides 3D View Developers get early code for new operating system \\'skin\\' still being crafted.\\nIBM Chips May Someday Heal Themselves New technology applies electrical fuses to help identify and repair faults.\\nSome People Not Eligible to Get in on Google IPO Google has billed its IPO as a way for everyday people to get in on the process, denying Wall Street the usual stranglehold it\\'s had on IPOs. Public bidding, a minimum of just five shares, an open process with 28 underwriters - all this pointed to a new level of public participation. But this isn\\'t the case.\\nRivals Try to Turn Tables on Charles Schwab By MICHAEL LIEDTKE     SAN FRANCISCO (AP) -- With its low prices and iconoclastic attitude, discount stock broker Charles Schwab Corp. (SCH) represented an annoying stone in Wall Street\\'s wing-tipped shoes for decades...\\nNews: Sluggish movement on power grid cyber security Industry cyber security standards fail to reach some of the most vulnerable components of the power grid.\\\\\\nGiddy Phelps Touches Gold for First Time Michael Phelps won the gold medal in the 400 individual medley and set a world record in a time of 4 minutes 8.26 seconds.\\nTougher rules won\\'t soften Law\\'s game FOXBOROUGH -- Looking at his ridiculously developed upper body, with huge biceps and hardly an ounce of fat, it\\'s easy to see why Ty Law, arguably the best cornerback in football, chooses physical play over finesse. That\\'s not to imply that he\\'s lacking a finesse component, because he can shut down his side of the field much as Deion Sanders ...\\nShoppach doesn\\'t appear ready to hit the next level With the weeks dwindling until Jason Varitek enters free agency, the Red Sox continue to carefully monitor Kelly Shoppach , their catcher of the future, in his climb toward the majors. The Sox like most of what they have seen at Triple A Pawtucket from Shoppach, though it remains highly uncertain whether he can make the adjustments at the plate ...\\nMighty Ortiz makes sure Sox can rest easy Just imagine what David Ortiz could do on a good night\\'s rest. Ortiz spent the night before last with his baby boy, D\\'Angelo, who is barely 1 month old. He had planned on attending the Red Sox\\' Family Day at Fenway Park yesterday morning, but he had to sleep in.', start_char_idx=4273, end_char_idx=8737, text_template='{metadata_str}\\n\\n{content}', metadata_template='{key}: {value}', metadata_seperator='\\n'),\n",
       " TextNode(id_='521f0c6d-c206-49a5-b0d4-b4be17dabd11', embedding=None, metadata={'filename': 'Output.txt', 'extension': '.txt'}, excluded_embed_metadata_keys=[], excluded_llm_metadata_keys=[], relationships={<NodeRelationship.SOURCE: '1'>: RelatedNodeInfo(node_id='39b57394-7d64-45eb-b8e8-76a8aa36d9c3', node_type=<ObjectType.DOCUMENT: '4'>, metadata={'filename': 'Output.txt', 'extension': '.txt'}, hash='18021a01705c19ecce84f5a18b2febc1da3cc963368b3438fc9a464398ce2c27'), <NodeRelationship.PREVIOUS: '2'>: RelatedNodeInfo(node_id='be747403-32cb-4c71-86b8-cfb229b1c0ed', node_type=<ObjectType.TEXT: '1'>, metadata={'filename': 'Output.txt', 'extension': '.txt'}, hash='ce95635c4e1f442d68dd349d5d6faa8ba08a6bc4b55d6870d70653aad2e4cf63'), <NodeRelationship.NEXT: '3'>: RelatedNodeInfo(node_id='16af2fe4-28f2-4ae9-9f8e-a185bd4a52ef', node_type=<ObjectType.TEXT: '1'>, metadata={}, hash='34fbd2ef794a4d6dc6c17df11dd1c2cee2a281d7e5f2a22d4ca7e4922409e8b9')}, text='After all, Ortiz had a son at home, and he ...\\nThey\\'ve caught his eye In  quot;helping themselves, quot; Ricky Bryant, Chas Gessner, Michael Jennings, and David Patten did nothing Friday night to make Bill Belichick\\'s decision on what to do with his receivers any easier.\\nIndians Mount Charge The Cleveland Indians pulled within one game of the AL Central lead by beating the Minnesota Twins, 7-1, Saturday night with home runs by Travis Hafner and Victor Martinez.\\nSister of man who died in Vancouver police custody slams chief (Canadian Press) Canadian Press - VANCOUVER (CP) - The sister of a man who died after a violent confrontation with police has demanded the city\\'s chief constable resign for defending the officer involved.\\nMan Sought  #36;50M From McGreevey, Aides Say (AP) AP - The man who claims Gov. James E. McGreevey sexually harassed him was pushing for a cash settlement of up to  #36;50 million before the governor decided to announce that he was gay and had an extramarital affair, sources told The Associated Press.\\nExplosions Echo Throughout Najaf NAJAF, Iraq - Explosions and gunfire rattled through the city of Najaf as U.S. troops in armored vehicles and tanks rolled back into the streets here Sunday, a day after the collapse of talks - and with them a temporary cease-fire - intended to end the fighting in this holy city...\\nFrail Pope Celebrates Mass at Lourdes LOURDES, France - A frail Pope John Paul II, breathing heavily and gasping at times, celebrated an open-air Mass on Sunday for several hundred thousand pilgrims, many in wheelchairs, at a shrine to the Virgin Mary that is associated with miraculous cures.    At one point he said \"help me\" in Polish while struggling through his homily in French...\\nVenezuela Prepares for Chavez Recall Vote Supporters and rivals warn of possible fraud; government says Chavez\\'s defeat could produce turmoil in world oil market.\\n1994 Law Designed to Preserve Guard Jobs (AP) AP - A 1994 law strengthened job protections for National Guard and Reserve troops called to active duty. Here are major provisions of the Uniformed Services Employment and Reemployment Rights Act (USERRA).\\nIran Warns Its Missiles Can Hit Anywhere in Israel  TEHRAN (Reuters) - A senior Iranian military official said  Sunday Israel and the United States would not dare attack Iran  since it could strike back anywhere in Israel with its latest  missiles, news agencies reported.\\nAfghan Army Dispatched to Calm Violence KABUL, Afghanistan - Government troops intervened in Afghanistan\\'s latest outbreak of deadly fighting between warlords, flying from the capital to the far west on U.S. and NATO airplanes to retake an air base contested in the violence, officials said Sunday...\\nJohnson Helps D-Backs End Nine-Game Slide (AP) AP - Randy Johnson took a four-hitter into the ninth inning to help the Arizona Diamondbacks end a nine-game losing streak Sunday, beating Steve Trachsel and the New York Mets 2-0.\\nRetailers Vie for Back-To-School Buyers (Reuters) Reuters - Apparel retailers are hoping their\\\\back-to-school fashions will make the grade among\\\\style-conscious teens and young adults this fall, but it could\\\\be a tough sell, with students and parents keeping a tighter\\\\hold on their wallets.\\nPolitics an Afterthought Amid Hurricane (AP) AP - If Hurricane Charley had struck three years ago, President Bush\\'s tour through the wreckage of this coastal city would have been just the sort of post-disaster visit that other presidents have made to the scenes of storms, earthquakes, floods and fires.\\nSpam suspension hits Sohu.com shares (FT.com) FT.com - Shares in Sohu.com, a leading US-listed Chinese internet portal, fell more than 10 per cent on Friday after China\\'s biggest mobile phone network operator imposed a one-year suspension on its multimedia messaging services because of customers being sent spam.\\nErstad\\'s Double Lifts Angels to Win (AP) AP - Darin Erstad doubled in the go-ahead run in the eighth inning, lifting the Anaheim Angels to a 3-2 victory over the Detroit Tigers on Sunday. The win pulled Anaheim within a percentage point of Boston and Texas in the AL wild-card race.\\nDrew Out of Braves\\' Lineup After Injury (AP) AP - Outfielder J.D. Drew missed the Atlanta Braves\\' game against the St. Louis Cardinals on Sunday night with a sore right quadriceps.\\nVenezuelans Flood Polls, Voting Extended  CARACAS, Venezuela (Reuters) - Venezuelans voted in huge  numbers on Sunday in a historic referendum on whether to recall  left-wing President Hugo Chavez and electoral authorities  prolonged voting well into the night.', start_char_idx=8738, end_char_idx=13331, text_template='{metadata_str}\\n\\n{content}', metadata_template='{key}: {value}', metadata_seperator='\\n'),\n",
       " TextNode(id_='16af2fe4-28f2-4ae9-9f8e-a185bd4a52ef', embedding=None, metadata={'filename': 'Output.txt', 'extension': '.txt'}, excluded_embed_metadata_keys=[], excluded_llm_metadata_keys=[], relationships={<NodeRelationship.SOURCE: '1'>: RelatedNodeInfo(node_id='39b57394-7d64-45eb-b8e8-76a8aa36d9c3', node_type=<ObjectType.DOCUMENT: '4'>, metadata={'filename': 'Output.txt', 'extension': '.txt'}, hash='18021a01705c19ecce84f5a18b2febc1da3cc963368b3438fc9a464398ce2c27'), <NodeRelationship.PREVIOUS: '2'>: RelatedNodeInfo(node_id='521f0c6d-c206-49a5-b0d4-b4be17dabd11', node_type=<ObjectType.TEXT: '1'>, metadata={'filename': 'Output.txt', 'extension': '.txt'}, hash='827edae6fea2a90791eb50154c694f35bba7979c52459901abaf8748bc573901'), <NodeRelationship.NEXT: '3'>: RelatedNodeInfo(node_id='8b894fa8-3ef4-451e-accb-de9fd9c023a6', node_type=<ObjectType.TEXT: '1'>, metadata={}, hash='c5933ee3ec00d98ebfea22d97b1d9fbb6e404683bf325393c62cbba90f29efe8')}, text=\"Dell Exits Low-End China Consumer PC Market  HONG KONG (Reuters) - Dell Inc. &lt;DELL.O&gt;, the world's  largest PC maker, said on Monday it has left the low-end  consumer PC market in China and cut its overall growth target  for the country this year due to stiff competition in the  segment.\\nChina Says Taiwan Spy Also Operated in U.S. - Media  BEIJING (Reuters) - Beijing on Monday accused a  Chinese-American arrested for spying for Taiwan of building an  espionage network in the United States, and said he could go on  trial very soon.\\nAnother Major Non-Factor Another major, another disappointment for Tiger Woods, the No. 1 ranked player in the world who has not won a major championship since his triumph at the 2002 U.S. Open.\\nUS fighter squadron to be deployed in South Korea next month (AFP) AFP - A squadron of US Air Force F-15E fighters based in Alaska will fly to South Korea next month for temporary deployment aimed at enhancing US firepower on the Korean peninsula, US authorities said.\\nJohnson Back to His Best as D-Backs End Streak  NEW YORK (Reuters) - Randy Johnson struck out 14 batters in  8 1/3 innings to help the Arizona Diamondbacks end a nine-game  losing streak with a 2-0 win over the host New York Mets in the  National League Sunday.\\nRestive Maldives eases curfew after rounding up dissidents (AFP) AFP - A curfew in the capital of the Maldives was eased but parliament sessions were put off indefinitely and emergency rule continued following last week's riots, officials and residents said.\\nVodafone hires Citi for Cesky bid (TheDeal.com) TheDeal.com - The U.K. mobile giant wants to find a way to disentagle the Czech wireless and fixed-line businesses.\\nDollar Briefly Hits 4-Wk Low Vs Euro  LONDON (Reuters) - The dollar dipped to a four-week low  against the euro on Monday before rising slightly on  profit-taking, but steep oil prices and weak U.S. data  continued to fan worries about the health of the world's  largest economy.\\nPromoting a Shared Vision As Michael Kaleko kept running into people who were getting older and having more vision problems, he realized he could do something about it.\\nIndia's Tata expands regional footprint via NatSteel buyout (AFP) AFP - India's Tata Iron and Steel Company Ltd. took a strategic step to expand its Asian footprint with the announcement it will buy the Asia-Pacific steel operations of Singapore's NatSteel Ltd.\\nDelegates Urge Cleric to Pull Out of Najaf BAGHDAD, Iraq - Delegates at Iraq's National Conference called on radical Shiite cleric Muqtada al-Sadr to abandon his uprising against U.S. and Iraqi troops and pull his fighters out of a holy shrine in Najaf...\\nTreasuries Slip as Stocks Rally  NEW YORK (Reuters) - U.S. Treasury debt prices slipped on  Monday, though traders characterized the move as profit-taking  rather than any fundamental change in sentiment.\\nDollar Rises Vs Euro on Asset Flows Data  NEW YORK (Reuters) - The dollar extended gains against the  euro on Monday after a report on flows into U.S. assets showed  enough of a rise in foreign investments to offset the current  account gap for the month.\\nSutton Adds Haas, Cink to Ryder Cup Team  MILWAUKEE (Sports Network) - U.S. Ryder Cup captain Hal  Sutton finalized his team on Monday when he announced the  selections of Jay Haas and Stewart Cink as his captain's picks.\\nHaas and Cink Selected for Ryder Cup Team Jay Haas joined Stewart Cink as the two captain's picks for a U.S. team that will try to regain the cup from Europe next month.\\nNatalie Coughlin Wins 100M Backstroke (AP) AP - American Natalie Coughlin won Olympic gold in the 100-meter backstroke Monday night. Coughlin, the only woman ever to swim under 1 minute in the event, finished first in 1 minute, 0.37 seconds. Kirsty Coventry of Zimbabwe, who swims at Auburn University in Alabama, earned the silver in 1:00.50. Laure Manaudou of France took bronze in 1:00.88.\\nOracle Overhauls Sales-Side Apps for CRM Suite (NewsFactor) NewsFactor - Oracle (Nasdaq: ORCL) has revamped its sales-side CRM applications in version 11i.10 of its sales, marketing, partner relationship management and e-commerce application.\", start_char_idx=13332, end_char_idx=17479, text_template='{metadata_str}\\n\\n{content}', metadata_template='{key}: {value}', metadata_seperator='\\n'),\n",
       " TextNode(id_='8b894fa8-3ef4-451e-accb-de9fd9c023a6', embedding=None, metadata={'filename': 'Output.txt', 'extension': '.txt'}, excluded_embed_metadata_keys=[], excluded_llm_metadata_keys=[], relationships={<NodeRelationship.SOURCE: '1'>: RelatedNodeInfo(node_id='39b57394-7d64-45eb-b8e8-76a8aa36d9c3', node_type=<ObjectType.DOCUMENT: '4'>, metadata={'filename': 'Output.txt', 'extension': '.txt'}, hash='18021a01705c19ecce84f5a18b2febc1da3cc963368b3438fc9a464398ce2c27'), <NodeRelationship.PREVIOUS: '2'>: RelatedNodeInfo(node_id='16af2fe4-28f2-4ae9-9f8e-a185bd4a52ef', node_type=<ObjectType.TEXT: '1'>, metadata={'filename': 'Output.txt', 'extension': '.txt'}, hash='f8123b286fb0f1681e399bbee65c28d9392ce4475d974dc091dd40817deb792f'), <NodeRelationship.NEXT: '3'>: RelatedNodeInfo(node_id='b5fe8b48-4e13-44d5-aeb8-5ebd4b395927', node_type=<ObjectType.TEXT: '1'>, metadata={}, hash='f392c38d873ec855352eda8d40c18ddb2145a99f457ee3b0e3e88599b422a32a')}, text='UN launches 210-million-dollar appeal for flood-hit Bangladesh (AFP) AFP - The United Nations launched an appeal here for 210 million dollars to help flood victims facing \"grave\" food shortages after two-thirds of Bangladesh was submerged, destroying crops and killing more than 700 people.\\nIndian state rolls out wireless broadband Government in South Indian state of Kerala sets up wireless kiosks as part of initiative to bridge digital divide.\\nHurricane Survivors Wait for Water, Gas PUNTA GORDA, Fla. - Urban rescue teams, insurance adjusters and National Guard troops scattered across Florida Monday to help victims of Hurricane Charley and deliver water and other supplies to thousands of people left homeless...\\nJackson Squares Off With Prosecutor SANTA MARIA, Calif. - Fans of Michael Jackson erupted in cheers Monday as the pop star emerged from a double-decker tour bus and went into court for a showdown with the prosecutor who has pursued him for years on child molestation charges...\\nBobcats Trade Drobnjak to Hawks for Pick (AP) AP - The Charlotte Bobcats traded center Predrag Drobnjak to the Atlanta Hawks on Monday for a second round pick in the 2005 NBA draft.\\nSuspect charged in abduction, sexual assault of 11-year-old girl (Canadian Press) Canadian Press - LANGLEY, B.C. (CP) - Police have arrested a man in the kidnapping and sexual assault of an 11-year-old girl that frightened this suburban Vancouver community last week.\\nChina\\'s Red Flag Linux to focus on enterprise Red Flag Software Co., the company behind China\\'s leading Linux client distribution, plans to focus more on its server operating system and enterprise customers, the company\\'s acting president said.\\nAOL Properties Sign Girafa For Thumbnail Search Images AOL Properties Sign Girafa For Thumbnail Search Images\\\\\\\\Girafa.com Inc. announced today that the CompuServe, Netscape, AIM and ICQ properties of America Online, Inc., have signed an agreement with Girafa to use Girafa\\'s thumbnail search images as an integrated part of their search results.\\\\\\\\Using Girafa\\'s thumbnail search service, search users can ...\\nCassini Spies Two Little Saturn Moons (AP) AP - NASA\\'s Cassini spacecraft has spied two new little moons around satellite-rich Saturn, the space agency said Monday.\\nOn front line of AIDS in Russia An industrial city northwest of Moscow struggles as AIDS hits a broader population.\\nNobel Laureate Decries Stem Cell Limits (AP) AP - A Nobel laureate in medicine said Monday the Bush administration\\'s limits on funding for embryonic stem cell research effectively have stopped the clock on American scientists\\' efforts to develop treatments for a host of chronic, debilitating diseases.\\nJury Can Hear of Kobe Accuser\\'s Sex Life (AP) AP - Prosecutors suffered another setback Monday in the Kobe Bryant sexual assault case, losing a last-ditch attempt to keep the NBA star\\'s lawyers from telling jurors about the alleged victim\\'s sex life.\\nNorth Korea Talks Still On, China Tells Downer (Reuters) Reuters - China has said no date has been set for\\\\working-level talks on the North Korean nuclear crisis and gave\\\\no indication that the meeting has been canceled, Australian\\\\Foreign Minister Alexander Downer said on Tuesday.\\nGriffin to Anchor D-Line The Redskins expect huge things from 300-pound Cornelius Griffin, who was signed to aid the team\\'s weakest unit - the defensive line.\\nLast American defector in North Korea agrees to tell story (AFP) AFP - The last surviving American defector to communist North Korea wants to tell his story to put a human face on the Stalinist state which he believes is unfairly vilified abroad, British film-makers said.\\nLive: Olympics day four Richard Faulds and Stephen Parry are going for gold for Great Britain on day four in Athens.\\nKerry Widens Lead in California, Poll Finds (Reuters) Reuters - Democratic challenger John Kerry\\\\has a commanding lead over President Bush in California of 54\\\\percent to 38 percent among likely voters, a poll released on\\\\Tuesday found.\\nCapacity Crowds at Beach Volleyball Rock the Joint  ATHENS (Reuters) - At the beach volleyball, the 2004  Olympics is a sell-out, foot-stomping success.\\nDollar Near Recent Lows, Awaits ZEW/CPI  LONDON (Reuters) - The dollar held steady near this week\\'s  four-week low against the euro on Tuesday with investors  awaiting a German investor confidence survey and U.S. consumer  inflation numbers to shed light on the direction.\\nIntel to delay product aimed for high-definition TVs SAN FRANCISCO -- In the latest of a series of product delays, Intel Corp. has postponed the launch of a video display chip it had previously planned to introduce by year end, putting off a showdown with Texas Instruments Inc. in the fast-growing market for high-definition television displays.', start_char_idx=17480, end_char_idx=22257, text_template='{metadata_str}\\n\\n{content}', metadata_template='{key}: {value}', metadata_seperator='\\n')]"
      ]
     },
     "execution_count": 54,
     "metadata": {},
     "output_type": "execute_result"
    }
   ],
   "source": [
    "nodes[0].text"
   ]
  },
  {
   "cell_type": "code",
   "execution_count": 15,
   "metadata": {},
   "outputs": [
    {
     "name": "stdout",
     "output_type": "stream",
     "text": [
      "Requirement already satisfied: tree-sitter in f:\\coding_workspace2\\retrieval-augmented-generation\\env\\lib\\site-packages (0.21.3)\n"
     ]
    },
    {
     "name": "stderr",
     "output_type": "stream",
     "text": [
      "WARNING: You are using pip version 22.0.4; however, version 24.0 is available.\n",
      "You should consider upgrading via the 'F:\\coding_workspace2\\Retrieval-Augmented-Generation\\env\\Scripts\\python.exe -m pip install --upgrade pip' command.\n"
     ]
    },
    {
     "name": "stdout",
     "output_type": "stream",
     "text": [
      "Collecting tree_sitter_languages\n",
      "  Downloading tree_sitter_languages-1.10.2-cp310-cp310-win_amd64.whl (8.3 MB)\n",
      "     ---------------------------------------- 8.3/8.3 MB 3.2 MB/s eta 0:00:00\n",
      "Requirement already satisfied: tree-sitter in f:\\coding_workspace2\\retrieval-augmented-generation\\env\\lib\\site-packages (from tree_sitter_languages) (0.21.3)\n",
      "Installing collected packages: tree_sitter_languages\n",
      "Successfully installed tree_sitter_languages-1.10.2\n"
     ]
    },
    {
     "name": "stderr",
     "output_type": "stream",
     "text": [
      "WARNING: You are using pip version 22.0.4; however, version 24.0 is available.\n",
      "You should consider upgrading via the 'F:\\coding_workspace2\\Retrieval-Augmented-Generation\\env\\Scripts\\python.exe -m pip install --upgrade pip' command.\n"
     ]
    }
   ],
   "source": [
    "!pip install tree-sitter\n",
    "!pip install tree_sitter_languages"
   ]
  },
  {
   "cell_type": "code",
   "execution_count": null,
   "metadata": {},
   "outputs": [],
   "source": []
  }
 ],
 "metadata": {
  "kernelspec": {
   "display_name": "env",
   "language": "python",
   "name": "python3"
  },
  "language_info": {
   "codemirror_mode": {
    "name": "ipython",
    "version": 3
   },
   "file_extension": ".py",
   "mimetype": "text/x-python",
   "name": "python",
   "nbconvert_exporter": "python",
   "pygments_lexer": "ipython3",
   "version": "3.10.5"
  }
 },
 "nbformat": 4,
 "nbformat_minor": 2
}
